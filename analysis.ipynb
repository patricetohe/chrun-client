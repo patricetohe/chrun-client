{
 "cells": [
  {
   "cell_type": "markdown",
   "metadata": {},
   "source": [
    "## creat flodres for ML projects"
   ]
  },
  {
   "cell_type": "code",
   "execution_count": null,
   "metadata": {},
   "outputs": [],
   "source": [
    "#COMMANDE GIT\n",
    "\n",
    "mkdir -p \\\n",
    "data/raw data/precessed data/external \\\n",
    "notebooks \\\n",
    "src/{data,features,models,utils} \\\n",
    "app \\\n",
    "configs \\\n",
    "scripts \\\n",
    "test \\\n",
    ".gitHub/workflow \\\n",
    "docker \\\n",
    "great_expectations \\\n",
    "mlruns \\\n",
    "artifacts"
   ]
  },
  {
   "cell_type": "code",
   "execution_count": null,
   "metadata": {},
   "outputs": [],
   "source": [
    "cat > requirements.txt << 'EOF'\n",
    "pandas\n",
    "numpy\n",
    "#matplotlib\n",
    "#seaborn\n",
    "scikit-learn\n",
    "#pandas-profiling\n",
    "mlflow\n",
    "#lightgbm\n",
    "fastapi\n",
    "uvicorn\n",
    "pydantic\n",
    "python-dotenv\n",
    "joblib\n",
    "requests\n",
    "great-expectations\n",
    "pytest\n",
    "EOF\n"
   ]
  },
  {
   "cell_type": "code",
   "execution_count": null,
   "metadata": {},
   "outputs": [],
   "source": [
    "python3.11 -m venv .churn-env\n",
    "source .churn-env/bin/activate\n",
    "pip install --upgrade pip\n",
    "uv pip install -r requirements.txt\n",
    "\n",
    "\n",
    "\n"
   ]
  }
 ],
 "metadata": {
  "kernelspec": {
   "display_name": "base",
   "language": "python",
   "name": "python3"
  },
  "language_info": {
   "codemirror_mode": {
    "name": "ipython",
    "version": 3
   },
   "file_extension": ".py",
   "mimetype": "text/x-python",
   "name": "python",
   "nbconvert_exporter": "python",
   "pygments_lexer": "ipython3",
   "version": "3.11.4"
  }
 },
 "nbformat": 4,
 "nbformat_minor": 4
}
